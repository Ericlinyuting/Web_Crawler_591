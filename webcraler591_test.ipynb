{
  "nbformat": 4,
  "nbformat_minor": 0,
  "metadata": {
    "colab": {
      "provenance": [],
      "authorship_tag": "ABX9TyOqoLVx+x4FG3gytYG/cq7X",
      "include_colab_link": true
    },
    "kernelspec": {
      "name": "python3",
      "display_name": "Python 3"
    },
    "language_info": {
      "name": "python"
    }
  },
  "cells": [
    {
      "cell_type": "markdown",
      "metadata": {
        "id": "view-in-github",
        "colab_type": "text"
      },
      "source": [
        "<a href=\"https://colab.research.google.com/github/Ericlinyuting/Web_Crawler_591/blob/main/webcraler591_test.ipynb\" target=\"_parent\"><img src=\"https://colab.research.google.com/assets/colab-badge.svg\" alt=\"Open In Colab\"/></a>"
      ]
    },
    {
      "cell_type": "code",
      "execution_count": 1,
      "metadata": {
        "colab": {
          "base_uri": "https://localhost:8080/"
        },
        "id": "L4eBh745gmVP",
        "outputId": "a6235461-9c56-454f-e944-1f1ac0a41511"
      },
      "outputs": [
        {
          "output_type": "stream",
          "name": "stdout",
          "text": [
            "Mounted at /content/drive\n"
          ]
        }
      ],
      "source": [
        "from google.colab import drive\n",
        "drive.mount('/content/drive')"
      ]
    },
    {
      "cell_type": "code",
      "source": [
        "!pip install selenium\n",
        "!apt-get update # to update ubuntu to correctly run apt install\n",
        "!apt install chromium-chromedriver\n",
        "!cp /usr/lib/chromium-browser/chromedriver /usr/bin\n",
        "import sys\n",
        "sys.path.insert(0,'/usr/lib/chromium-browser/chromedriver')\n",
        "from selenium import webdriver"
      ],
      "metadata": {
        "id": "DE5XO2Awg79M"
      },
      "execution_count": null,
      "outputs": []
    },
    {
      "cell_type": "code",
      "source": [
        "import requests\n",
        "import time\n",
        "from bs4 import BeautifulSoup\n",
        "import pandas as pd\n",
        "import warnings\n",
        "import datetime\n",
        "import requests\n",
        "import pandas as pd\n",
        "import time\n",
        "from selenium import webdriver\n",
        "from selenium.webdriver.common.keys import Keys\n",
        "import csv\n",
        "import io\n",
        "import json\n",
        "import random\n",
        "warnings.filterwarnings(\"ignore\")"
      ],
      "metadata": {
        "id": "27S1AZi_g9w7"
      },
      "execution_count": null,
      "outputs": []
    },
    {
      "cell_type": "code",
      "source": [
        "headers={\n",
        "    'user-agent' : 'Mozilla/5.0 (Windows NT 10.0; Win64; x64) AppleWebKit/537.36 (KHTML, like Gecko) Chrome/84.0.4147.125 Safari/537.36'\n",
        "    }\n",
        "\n",
        "request_url='http://newhouse.591.com.tw/home/housing/info?hid=119282'\n",
        "res=requests.get(request_url, headers = headers)\n",
        "bs=BeautifulSoup(res.text,'html.parser')"
      ],
      "metadata": {
        "id": "lODPfqp9hBvA"
      },
      "execution_count": null,
      "outputs": []
    },
    {
      "cell_type": "code",
      "source": [
        "request_url = \"https://newhouse.591.com.tw/home/housing/search?rid=1&sid=0&page=1\"\n",
        "headers={\n",
        "    'user-agent' : 'Mozilla/5.0 (Windows NT 10.0; Win64; x64) AppleWebKit/537.36 (KHTML, like Gecko) Chrome/84.0.4147.125 Safari/537.36'\n",
        "    }\n",
        "response = requests.get(request_url, headers = headers)\n",
        "response = response.json()\n",
        "items = response[\"data\"][\"items\"]\n",
        "house_url_list=[] #存放網址list\n",
        "for key in items:\n",
        "  id = key[\"hid\"] # 每個物件的 id\n",
        "  house_url_list.append(id)\n",
        "\n",
        "for url in house_url_list:\n",
        "  request_url='https://newhouse.591.com.tw/home/housing/info?hid='+str(url).strip()+\"/detail\"\n",
        "  headers={\n",
        "  'user-agent' : 'Mozilla/5.0 (Windows NT 10.0; Win64; x64) AppleWebKit/537.36 (KHTML, like Gecko) Chrome/84.0.4147.125 Safari/537.36'\n",
        "  }\n",
        "  time.sleep(random.randint(5,10))\n",
        "  res=requests.get(request_url, headers = headers)\n",
        "\n",
        "print (request_url)\n",
        "print (res)"
      ],
      "metadata": {
        "id": "VxF8KN_HhFlh"
      },
      "execution_count": null,
      "outputs": []
    },
    {
      "cell_type": "code",
      "source": [
        "request_url='https://newhouse.591.com.tw/home/housing/info?hid='+str(url).strip()\n",
        "headers={\n",
        "  'user-agent' : 'Mozilla/5.0 (Windows NT 10.0; Win64; x64) AppleWebKit/537.36 (KHTML, like Gecko) Chrome/84.0.4147.125 Safari/537.36'\n",
        "  }\n",
        "res=requests.get(request_url, headers = headers)\n",
        "bs=BeautifulSoup(res.text,'html.parser')\n",
        "# 利用 beautfiulsoup 的 find function 利用 css selector 定位 並撈出指定資料\n",
        "title=bs.find('h1').text\n",
        "tag = ', '.join([span.text.strip() for span in bs.find(\"p\", {'class':\"build-tag\"}).find_all(\"span\")]) if bs.find(\"p\", {'class':\"build-tag\"}) else \"未找到相應標籤\" #建案標籤\n",
        "unit_price=bs.find(\"span\", {'class':\"price\"}).text #單價\n",
        "unit = bs.find(\"span\", {'class':\"unit\"}).text #單位\n",
        "room = bs.find(\"span\",text=\"格局\").findNext(\"span\",{\"class\":\"value\"}).text #格局\n",
        "material = bs.find(\"h4\",text=\"建材說明\").findNext(\"p\").text #建材說明\n",
        "print (res)\n",
        "print (material)"
      ],
      "metadata": {
        "id": "Iq81YIbBhGP5"
      },
      "execution_count": null,
      "outputs": []
    },
    {
      "cell_type": "code",
      "source": [
        "request_url_detail='https://newhouse.591.com.tw/home/housing/info?hid='+str(url).strip()+\"/detail\"\n",
        "headers={\n",
        "  'user-agent' : 'Mozilla/5.0 (Windows NT 10.0; Win64; x64) AppleWebKit/537.36 (KHTML, like Gecko) Chrome/84.0.4147.125 Safari/537.36'\n",
        "  }\n",
        "res_detail=requests.get(request_url_detail, headers = headers)\n",
        "bs_detail=BeautifulSoup(res_detail.text,'html.parser')\n",
        "\n",
        "htype=bs_detail.find(\"span\", text=\"建案類別\").findNext(\"p\").string.strip()\n",
        "htype2=bs_detail.find(\"span\", text=\"建案型態\").findNext(\"p\").string.strip().replace(' ', '').replace('\\n', '、')\n",
        "htype3=bs_detail.find(\"span\", text=\"公開銷售\").findNext(\"p\").string.strip()\n",
        "htype4=bs_detail.find(\"p\", {'class':\"address\"}).findNext(\"span\").text\n",
        "htype5=bs_detail.find(\"span\", text=\"交屋屋況\").findNext(\"p\").string.strip()\n",
        "htype6=bs_detail.find(\"span\",text=\"格局規劃\").findNext(\"p\").text.strip().replace(' ', '')\n",
        "htype7=bs_detail.find(\"span\", text=\"投資建設\").findNext(\"p\").string.strip()\n",
        "htype8=bs_detail.find(\"span\", text=\"營造公司\").findNext(\"p\").string.strip()\n",
        "htype9=bs_detail.find(\"span\", text=\"棟戶規劃\").findNext(\"p\").string.strip()\n",
        "htype10=bs_detail.find(\"span\", text=\"樓層規劃\").findNext(\"p\").string.strip()\n",
        "htype11=bs_detail.find(\"span\", text=\"用途規劃\").findNext(\"p\").string.strip()\n",
        "print(htype11)"
      ],
      "metadata": {
        "colab": {
          "base_uri": "https://localhost:8080/"
        },
        "id": "Xbbh_QHpd5EJ",
        "outputId": "03463ae9-937e-416d-cfde-2f3b6c750fdc"
      },
      "execution_count": null,
      "outputs": [
        {
          "output_type": "stream",
          "name": "stdout",
          "text": [
            "住商用\n"
          ]
        }
      ]
    }
  ]
}
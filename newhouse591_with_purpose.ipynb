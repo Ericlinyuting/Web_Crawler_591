{
  "nbformat": 4,
  "nbformat_minor": 0,
  "metadata": {
    "colab": {
      "name": "newhouse591_with_purpose.ipynb",
      "provenance": [],
      "collapsed_sections": [],
      "include_colab_link": true
    },
    "kernelspec": {
      "name": "python3",
      "display_name": "Python 3",
      "language": "python"
    }
  },
  "cells": [
    {
      "cell_type": "markdown",
      "metadata": {
        "id": "view-in-github",
        "colab_type": "text"
      },
      "source": [
        "<a href=\"https://colab.research.google.com/github/LucaChuang/Newhouse-591-Web-Scraping/blob/main/newhouse591_with_purpose.ipynb\" target=\"_parent\"><img src=\"https://colab.research.google.com/assets/colab-badge.svg\" alt=\"Open In Colab\"/></a>"
      ]
    },
    {
      "cell_type": "code",
      "metadata": {
        "colab": {
          "base_uri": "https://localhost:8080/"
        },
        "id": "iQNEwUtkphBS",
        "outputId": "a56c811f-a167-4433-c3e6-5bf77e46be0d"
      },
      "source": [
        "from google.colab import drive\n",
        "drive.mount('/content/drive')"
      ],
      "execution_count": 1,
      "outputs": [
        {
          "output_type": "stream",
          "text": [
            "Mounted at /content/drive\n"
          ],
          "name": "stdout"
        }
      ]
    },
    {
      "cell_type": "code",
      "metadata": {
        "id": "RQJAPHxbomd8"
      },
      "source": [
        "# !pip install selenium\n",
        "# !apt-get update # to update ubuntu to correctly run apt install\n",
        "# !apt install chromium-chromedriver\n",
        "# !cp /usr/lib/chromium-browser/chromedriver /usr/bin\n",
        "# import sys\n",
        "# sys.path.insert(0,'/usr/lib/chromium-browser/chromedriver')\n",
        "# from selenium import webdriver"
      ],
      "execution_count": 17,
      "outputs": []
    },
    {
      "cell_type": "code",
      "metadata": {
        "id": "4dh0bQF-HEgw"
      },
      "source": [
        "import requests\n",
        "import time\n",
        "from bs4 import BeautifulSoup\n",
        "import pandas as pd\n",
        "import warnings\n",
        "import datetime\n",
        "import requests\n",
        "import pandas as pd\n",
        "import time\n",
        "#from selenium import webdriver\n",
        "#from selenium.webdriver.common.keys import Keys\n",
        "import csv\n",
        "import io\n",
        "import json\n",
        "import random\n",
        "warnings.filterwarnings(\"ignore\")"
      ],
      "execution_count": 4,
      "outputs": []
    },
    {
      "cell_type": "code",
      "metadata": {
        "id": "ERMnx-cnoeIn"
      },
      "source": [
        "headers={\n",
        "    'user-agent' : 'Mozilla/5.0 (Windows NT 10.0; Win64; x64) AppleWebKit/537.36 (KHTML, like Gecko) Chrome/84.0.4147.125 Safari/537.36'\n",
        "    }\n",
        "\n",
        "request_url='http://newhouse.591.com.tw/home/housing/info?hid=119282'\n",
        "res=requests.get(request_url, headers = headers)\n",
        "bs=BeautifulSoup(res.text,'html.parser')\n"
      ],
      "execution_count": 5,
      "outputs": []
    },
    {
      "cell_type": "code",
      "metadata": {
        "id": "hDXNjxovoeIo"
      },
      "source": [
        "# input 建案網址 return 建案建案詳情欄位\n",
        "# 產出為建案名與12個建案資訊\n",
        "def getData(url):\n",
        "    request_url='https://newhouse.591.com.tw/home/housing/info?hid='+str(url).strip()\n",
        "    headers={\n",
        "    'user-agent' : 'Mozilla/5.0 (Windows NT 10.0; Win64; x64) AppleWebKit/537.36 (KHTML, like Gecko) Chrome/84.0.4147.125 Safari/537.36'\n",
        "    }\n",
        "    res=requests.get(request_url, headers = headers)\n",
        "    #bs=BeautifulSoup(res.text,'html.parser')\n",
        "\n",
        "    if res.status_code == 200:\n",
        "        bs=BeautifulSoup(res.text,'html.parser')\n",
        "        #先宣告變數為NULL 若無撈到資料則寫入NULL\n",
        "        title='NULL'\n",
        "        cost='NULL'\n",
        "        htype='NULL'\n",
        "        htype2='NULL'\n",
        "        htype3='NULL'\n",
        "        htype4='NULL'\n",
        "        htype5='NULL'\n",
        "        htype6='NULL'\n",
        "        htype7='NULL'\n",
        "        htype8='NULL'\n",
        "        htype9='NULL'\n",
        "        htype10='NULL'\n",
        "        htype11='NULL'\n",
        "\n",
        "        # 利用 beautfiulsoup 的 find function 利用 css selector 定位 並撈出指定資料\n",
        "        title=bs.find('h1').text\n",
        "        cost=bs.find(\"dl\", {'class':\"clearfix\"}).findNext(\"dd\").text.strip()\n",
        "        htype=bs.find(\"dt\", text=\"建案類別：\").findNext(\"dd\").string.strip()\n",
        "        htype2=bs.find(\"dt\", text=\"建物形態：\").findNext(\"dd\").string.strip().replace(' ', '').replace('\\n', '、')\n",
        "        htype3=bs.find(\"dt\", text=\"公開銷售：\").findNext(\"dd\").string.strip()\n",
        "        htype4=bs.find(\"dt\", text=\"基地地址：\").findNext(\"dd\").contents[0].string.strip()\n",
        "        htype5=bs.find(\"dt\", text=\"交屋屋況：\").findNext(\"dd\").string.strip()\n",
        "        htype6=bs.find(\"div\",{'class':\"flex_5 stonefont\"}).findNext('span',{'class':''}).text.strip().replace(' ', '')\n",
        "        htype7=bs.find(\"dt\", text=\"投資建設：\").findNext(\"dd\").string.strip()\n",
        "        htype8=bs.find(\"dt\", text=\"營造公司：\").findNext(\"dd\").string.strip()\n",
        "        htype9=bs.find(\"dt\", text=\"棟戶規劃：\").findNext(\"dd\").string.strip()\n",
        "        htype10=bs.find(\"dt\", text=\"樓層規劃：\").findNext(\"dd\").string.strip()\n",
        "        htype11=bs.find(\"dt\", text=\"用途規劃：\").findNext(\"dd\").string.strip()\n",
        "                \n",
        "        return title,cost,htype, htype2, htype3, htype4, htype5, htype6, htype7, htype8, htype9, htype10, htype11\n",
        "    else:\n",
        "        print('link expired:', url)\n",
        "        return 404, 404, 404, 404, 404, 404, 404"
      ],
      "execution_count": 6,
      "outputs": []
    },
    {
      "cell_type": "code",
      "metadata": {
        "id": "TNJrdA_kn6a2"
      },
      "source": [
        "def get_dynamic_data(url):\n",
        "    request_url='https://newhouse.591.com.tw/home/housing/dynamic?hid='+str(url).strip()\n",
        "    headers={\n",
        "    'user-agent' : 'Mozilla/5.0 (Windows NT 10.0; Win64; x64) AppleWebKit/537.36 (KHTML, like Gecko) Chrome/84.0.4147.125 Safari/537.36'\n",
        "    }\n",
        "    res=requests.get(request_url, headers = headers)\n",
        "    #bs=BeautifulSoup(res.text,'html.parser')\n",
        "\n",
        "    if res.status_code == 200:\n",
        "        bs=BeautifulSoup(res.text,'html.parser')\n",
        "        #先宣告變數為NULL 若無撈到資料則寫入NULL\n",
        "        news_date = 'NULL'\n",
        "        news = 'NULL'\n",
        "        # 利用 beautfiulsoup 的 find function 利用 css selector 定位 並撈出指定資料\n",
        "        news_date = bs.find(\"div\", {'class':\"dynamic-date\"}).findNext(\"span\").contents[0].string.strip() + \"-\" +\\\n",
        "                    bs.find(\"div\", {'class':\"dynamic-date\"}).findNext(\"strong\").contents[0].string.strip()\n",
        "\n",
        "        news = bs.find(\"div\", {'class':\"dynamic-infolist\"}).string\n",
        "                \n",
        "        return news_date, news\n",
        "    else:\n",
        "        print('link expired:', url)\n",
        "        return 404, 404, 404, 404, 404, 404, 404"
      ],
      "execution_count": 7,
      "outputs": []
    },
    {
      "cell_type": "code",
      "metadata": {
        "id": "aiM1Bqd_qNTz"
      },
      "source": [
        "def main(outputfile, rid, sid, purp, totalpages):\n",
        "   \n",
        "   with io.open(outputfile, \"w\", encoding=\"utf-8\") as csvfile:\n",
        "        writer = csv.writer(csvfile)\n",
        "        writer.writerow([\"建案名稱\", \"單價\", \"建案類別\", \"建物形態\", \"公開銷售\", \"基地地址\", \"交屋屋況\"\\\n",
        "                        ,\"格局規劃\", \"投資建設\", \"營造公司\", \"棟戶規劃\", \"樓層規劃\", \"用途規劃\", \"網址\"\\\n",
        "                        ,\"動態資訊日期日期\", \"動態資訊\"])\n",
        "        totalpages = totalpages\n",
        "        print('Total pages: ', totalpages)\n",
        "\n",
        "        for i in range(1, totalpages+1):\n",
        "            request_url = \"https://newhouse.591.com.tw/home/housing/search?rid=\"+str(rid)+\"&sid=\"+str(sid)+\"&build_purpose=\"+str(purp)+\"&page=\"+str(i)\n",
        "            response = requests.get(request_url, headers = headers)\n",
        "            response = response.json()\n",
        "            items = response[\"data\"][\"items\"]\n",
        "\n",
        "            house_url_list=[] #存放網址list\n",
        "            for key in items:\n",
        "                id = key[\"hid\"] # 每個物件的 id\n",
        "                house_url_list.append(id)\n",
        "            time.sleep(3)\n",
        "            #time.sleep(random.randint(5,10))\n",
        "\n",
        "            # ------------- write into csv ------------- #\n",
        "            for url in house_url_list:\n",
        "                title,cost,htype, htype2, htype3, htype4, htype5, htype6, htype7, htype8, htype9, htype10, htype11 = getData(url)\n",
        "                try:\n",
        "                  news_date, news = get_dynamic_data(url)\n",
        "                except:\n",
        "                  news_date = \"Null\"\n",
        "                  news = \"Null\"\n",
        "                  print(\"No news\")\n",
        "                writer.writerow([title,cost,htype, htype2, htype3, htype4, htype5, htype6, htype7, htype8, htype9, htype10, htype11,\\\n",
        "                                 str('https://newhouse.591.com.tw/home/housing/info?hid='+str(url)), news_date, news])\n",
        "            # ------------------------------------------ #\n",
        "            print(i/totalpages*100, '%') # print out 完成 %數"
      ],
      "execution_count": 12,
      "outputs": []
    },
    {
      "cell_type": "code",
      "metadata": {
        "colab": {
          "base_uri": "https://localhost:8080/"
        },
        "id": "XXxgt867oeIp",
        "outputId": "4abc2b59-0988-4323-fd04-557ecb596310"
      },
      "source": [
        "if __name__ == '__main__':\n",
        "    # -------- configurable parameter -------- #\n",
        "    # 以台北市不限區別墅舉例(預設網址可能沒寫rid&sid, 點選縣市或區往只會顯示如下)\n",
        "    # link:https://newhouse.591.com.tw/housing-list.html?rid=1&sid=0&build_purpose=1\n",
        "\n",
        "    output_file_name = '/content/drive/MyDrive/output0409.csv' #設定存放位置與檔名\n",
        "    rid = 1           # 設定縣市 (台北市 rid = 1)\n",
        "    sid = 0           # 設定地區 (不限區 sid = 0)\n",
        "    purp = 1          # 設定地區 (別墅 purp = 1)\n",
        "    totalpages = 1    # 設定抓取頁數 # 14頁大概\n",
        "    # ---------------------------------------- #\n",
        "\n",
        "    main(output_file_name, rid, sid, purp, totalpages)                                          #匯出csv檔\n",
        "    read_file = pd.read_csv (output_file_name)\n",
        "    read_file.to_excel ('/content/drive/MyDrive/output0409.xlsx', index = None, header=True) #匯出excel檔\n",
        "    print('\\nfinish!')"
      ],
      "execution_count": 16,
      "outputs": [
        {
          "output_type": "stream",
          "text": [
            "Total pages:  1\n",
            "No news\n",
            "100.0 %\n",
            "\n",
            "finish!\n"
          ],
          "name": "stdout"
        }
      ]
    }
  ]
}
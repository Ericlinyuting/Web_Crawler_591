{
  "nbformat": 4,
  "nbformat_minor": 0,
  "metadata": {
    "colab": {
      "name": "newhouse591.ipynb",
      "provenance": [],
      "include_colab_link": true
    },
    "kernelspec": {
      "name": "python3",
      "display_name": "Python 3",
      "language": "python"
    }
  },
  "cells": [
    {
      "cell_type": "markdown",
      "metadata": {
        "id": "view-in-github",
        "colab_type": "text"
      },
      "source": [
        "<a href=\"https://colab.research.google.com/github/Ericlinyuting/Web_Crawler_591/blob/main/newhouse591_without_news.ipynb\" target=\"_parent\"><img src=\"https://colab.research.google.com/assets/colab-badge.svg\" alt=\"Open In Colab\"/></a>"
      ]
    },
    {
      "cell_type": "code",
      "metadata": {
        "colab": {
          "base_uri": "https://localhost:8080/"
        },
        "id": "iQNEwUtkphBS",
        "outputId": "f6574ff3-5fd1-4202-94c7-dc0968bef9f6"
      },
      "source": [
        "from google.colab import drive\n",
        "drive.mount('/content/drive')"
      ],
      "execution_count": 11,
      "outputs": [
        {
          "output_type": "stream",
          "name": "stdout",
          "text": [
            "Drive already mounted at /content/drive; to attempt to forcibly remount, call drive.mount(\"/content/drive\", force_remount=True).\n"
          ]
        }
      ]
    },
    {
      "cell_type": "code",
      "metadata": {
        "colab": {
          "base_uri": "https://localhost:8080/"
        },
        "id": "RQJAPHxbomd8",
        "outputId": "71c6325e-74ee-4a28-e655-09e9fd5c9ab3"
      },
      "source": [
        "!pip install selenium\n",
        "!apt-get update # to update ubuntu to correctly run apt install\n",
        "!apt install chromium-chromedriver\n",
        "!cp /usr/lib/chromium-browser/chromedriver /usr/bin\n",
        "import sys\n",
        "sys.path.insert(0,'/usr/lib/chromium-browser/chromedriver')\n",
        "from selenium import webdriver"
      ],
      "execution_count": 12,
      "outputs": [
        {
          "output_type": "stream",
          "name": "stdout",
          "text": [
            "Requirement already satisfied: selenium in /usr/local/lib/python3.10/dist-packages (4.16.0)\n",
            "Requirement already satisfied: urllib3[socks]<3,>=1.26 in /usr/local/lib/python3.10/dist-packages (from selenium) (2.0.7)\n",
            "Requirement already satisfied: trio~=0.17 in /usr/local/lib/python3.10/dist-packages (from selenium) (0.23.2)\n",
            "Requirement already satisfied: trio-websocket~=0.9 in /usr/local/lib/python3.10/dist-packages (from selenium) (0.11.1)\n",
            "Requirement already satisfied: certifi>=2021.10.8 in /usr/local/lib/python3.10/dist-packages (from selenium) (2023.11.17)\n",
            "Requirement already satisfied: attrs>=20.1.0 in /usr/local/lib/python3.10/dist-packages (from trio~=0.17->selenium) (23.1.0)\n",
            "Requirement already satisfied: sortedcontainers in /usr/local/lib/python3.10/dist-packages (from trio~=0.17->selenium) (2.4.0)\n",
            "Requirement already satisfied: idna in /usr/local/lib/python3.10/dist-packages (from trio~=0.17->selenium) (3.6)\n",
            "Requirement already satisfied: outcome in /usr/local/lib/python3.10/dist-packages (from trio~=0.17->selenium) (1.3.0.post0)\n",
            "Requirement already satisfied: sniffio>=1.3.0 in /usr/local/lib/python3.10/dist-packages (from trio~=0.17->selenium) (1.3.0)\n",
            "Requirement already satisfied: exceptiongroup in /usr/local/lib/python3.10/dist-packages (from trio~=0.17->selenium) (1.2.0)\n",
            "Requirement already satisfied: wsproto>=0.14 in /usr/local/lib/python3.10/dist-packages (from trio-websocket~=0.9->selenium) (1.2.0)\n",
            "Requirement already satisfied: pysocks!=1.5.7,<2.0,>=1.5.6 in /usr/local/lib/python3.10/dist-packages (from urllib3[socks]<3,>=1.26->selenium) (1.7.1)\n",
            "Requirement already satisfied: h11<1,>=0.9.0 in /usr/local/lib/python3.10/dist-packages (from wsproto>=0.14->trio-websocket~=0.9->selenium) (0.14.0)\n",
            "Hit:1 https://cloud.r-project.org/bin/linux/ubuntu jammy-cran40/ InRelease\n",
            "Hit:2 http://archive.ubuntu.com/ubuntu jammy InRelease\n",
            "Hit:3 https://developer.download.nvidia.com/compute/cuda/repos/ubuntu2204/x86_64  InRelease\n",
            "Get:4 http://archive.ubuntu.com/ubuntu jammy-updates InRelease [119 kB]\n",
            "Get:5 http://security.ubuntu.com/ubuntu jammy-security InRelease [110 kB]\n",
            "Hit:6 http://archive.ubuntu.com/ubuntu jammy-backports InRelease\n",
            "Hit:7 https://ppa.launchpadcontent.net/c2d4u.team/c2d4u4.0+/ubuntu jammy InRelease\n",
            "Hit:8 https://ppa.launchpadcontent.net/deadsnakes/ppa/ubuntu jammy InRelease\n",
            "Hit:9 https://ppa.launchpadcontent.net/graphics-drivers/ppa/ubuntu jammy InRelease\n",
            "Hit:10 https://ppa.launchpadcontent.net/ubuntugis/ppa/ubuntu jammy InRelease\n",
            "Fetched 229 kB in 2s (136 kB/s)\n",
            "Reading package lists... Done\n",
            "Reading package lists... Done\n",
            "Building dependency tree... Done\n",
            "Reading state information... Done\n",
            "chromium-chromedriver is already the newest version (1:85.0.4183.83-0ubuntu2.22.04.1).\n",
            "0 upgraded, 0 newly installed, 0 to remove and 26 not upgraded.\n",
            "cp: '/usr/lib/chromium-browser/chromedriver' and '/usr/bin/chromedriver' are the same file\n"
          ]
        }
      ]
    },
    {
      "cell_type": "code",
      "metadata": {
        "id": "4dh0bQF-HEgw"
      },
      "source": [
        "import requests\n",
        "import time\n",
        "from bs4 import BeautifulSoup\n",
        "import pandas as pd\n",
        "import warnings\n",
        "import datetime\n",
        "import requests\n",
        "import pandas as pd\n",
        "import time\n",
        "from selenium import webdriver\n",
        "from selenium.webdriver.common.keys import Keys\n",
        "import csv\n",
        "import io\n",
        "import json\n",
        "import random\n",
        "warnings.filterwarnings(\"ignore\")"
      ],
      "execution_count": 13,
      "outputs": []
    },
    {
      "cell_type": "code",
      "metadata": {
        "id": "ERMnx-cnoeIn"
      },
      "source": [
        "headers={\n",
        "    'user-agent' : 'Mozilla/5.0 (Windows NT 10.0; Win64; x64) AppleWebKit/537.36 (KHTML, like Gecko) Chrome/84.0.4147.125 Safari/537.36'\n",
        "    }\n",
        "\n",
        "request_url='http://newhouse.591.com.tw/home/housing/info?hid=119282'\n",
        "res=requests.get(request_url, headers = headers)\n",
        "bs=BeautifulSoup(res.text,'html.parser')\n"
      ],
      "execution_count": 14,
      "outputs": []
    },
    {
      "cell_type": "code",
      "metadata": {
        "id": "hDXNjxovoeIo"
      },
      "source": [
        "# input 建案網址 return 建案建案詳情欄位\n",
        "# 產出為建案名與12個建案資訊\n",
        "def getData(url):\n",
        "    request_url='https://newhouse.591.com.tw/home/housing/info?hid='+str(url).strip()\n",
        "    headers={\n",
        "    'user-agent' : 'Mozilla/5.0 (Windows NT 10.0; Win64; x64) AppleWebKit/537.36 (KHTML, like Gecko) Chrome/84.0.4147.125 Safari/537.36'\n",
        "    }\n",
        "    res=requests.get(request_url, headers = headers)\n",
        "    #bs=BeautifulSoup(res.text,'html.parser')\n",
        "\n",
        "    request_url_detail='https://newhouse.591.com.tw/home/housing/info?hid='+str(url).strip()+\"/detail\"\n",
        "    res_detail=requests.get(request_url_detail, headers = headers)\n",
        "\n",
        "    if res.status_code == 200 & res_detail.status_code==200:\n",
        "        bs=BeautifulSoup(res.text,'html.parser')\n",
        "        bs_detail=BeautifulSoup(res_detail.text,'html.parser')\n",
        "        #先宣告變數為NULL 若無撈到資料則寫入NULL\n",
        "        title='NULL'\n",
        "        tag='NULL'\n",
        "        unit_price='NULL'\n",
        "        unit='NULL'\n",
        "        material='NULL'\n",
        "        htype='NULL'\n",
        "        htype2='NULL'\n",
        "        htype3='NULL'\n",
        "        htype4='NULL'\n",
        "        htype5='NULL'\n",
        "        htype6='NULL'\n",
        "        htype7='NULL'\n",
        "        htype8='NULL'\n",
        "        htype9='NULL'\n",
        "        htype10='NULL'\n",
        "        htype11='NULL'\n",
        "\n",
        "        # 利用 beautfiulsoup 的 find function 利用 css selector 定位 並撈出指定資料\n",
        "        title=bs.find('h1').text\n",
        "        tag = ', '.join([span.text.strip() for span in bs.find(\"p\", {'class':\"build-tag\"}).find_all(\"span\")]) if bs.find(\"p\", {'class':\"build-tag\"}) else \"未找到相應標籤\" #建案標籤\n",
        "        unit_price=bs.find(\"span\", {'class':\"price\"}).text #單價\n",
        "        unit = bs.find(\"span\", {'class':\"unit\"}).text #單位\n",
        "        material = bs.find(\"h4\",text=\"建材說明\").findNext(\"p\").text #建材說明\n",
        "        htype=bs_detail.find(\"span\", text=\"建案類別\").findNext(\"p\").string.strip() #建案類別\n",
        "        htype2=bs_detail.find(\"span\", text=\"建案型態\").findNext(\"p\").string.strip().replace(' ', '').replace('\\n', '、') #建案型態\n",
        "        htype3=bs_detail.find(\"span\", text=\"公開銷售\").findNext(\"p\").string.strip() #公開銷售\n",
        "        htype4=bs_detail.find(\"p\", {'class':\"address\"}).findNext(\"span\").text #基地地址\n",
        "        htype5=bs_detail.find(\"span\", text=\"交屋屋況\").findNext(\"p\").string.strip() #交屋屋況\n",
        "        htype6=bs_detail.find(\"span\",text=\"格局規劃\").findNext(\"p\").text.strip().replace(' ', '') #格局規劃\n",
        "        htype7=bs_detail.find(\"span\", text=\"投資建設\").findNext(\"p\").string.strip() #投資建設\n",
        "        htype8=bs_detail.find(\"span\", text=\"營造公司\").findNext(\"p\").string.strip() #營造公司\n",
        "        htype9=bs_detail.find(\"span\", text=\"棟戶規劃\").findNext(\"p\").string.strip() #棟戶規劃\n",
        "        htype10=bs_detail.find(\"span\", text=\"樓層規劃\").findNext(\"p\").string.strip() #樓層規劃\n",
        "        hhtype11=bs_detail.find(\"span\", text=\"用途規劃\").findNext(\"p\").string.strip() #用途規劃\n",
        "\n",
        "        return title,tag,unit_price,unit,material,htype, htype2, htype3, htype4, htype5, htype6, htype7, htype8, htype9, htype10, htype11\n",
        "    else:\n",
        "        print('link expired:', url)\n",
        "        return 404, 404, 404, 404, 404, 404, 404"
      ],
      "execution_count": null,
      "outputs": []
    },
    {
      "cell_type": "code",
      "metadata": {
        "id": "TNJrdA_kn6a2"
      },
      "source": [
        "#def get_dynamic_data(url):\n",
        "#    request_url='https://newhouse.591.com.tw/home/housing/dynamic?hid='+str(url).strip()\n",
        "#    headers={\n",
        "#    'user-agent' : 'Mozilla/5.0 (Windows NT 10.0; Win64; x64) AppleWebKit/537.36 (KHTML, like Gecko) Chrome/84.0.4147.125 Safari/537.36'\n",
        "#    }\n",
        "#    res=requests.get(request_url, headers = headers)\n",
        "#    #bs=BeautifulSoup(res.text,'html.parser')\n",
        "#\n",
        "#    if res.status_code == 200:\n",
        "#        bs=BeautifulSoup(res.text,'html.parser')\n",
        "#        #先宣告變數為NULL 若無撈到資料則寫入NULL\n",
        "#        news_date = 'NULL'\n",
        "#        news = 'NULL'\n",
        "#        # 利用 beautfiulsoup 的 find function 利用 css selector 定位 並撈出指定資料\n",
        "#        news_date = bs.find(\"div\", {'class':\"dynamic-date\"}).findNext(\"span\").contents[0].string.strip() + \"-\" +\\\n",
        "#                    bs.find(\"div\", {'class':\"dynamic-date\"}).findNext(\"strong\").contents[0].string.strip()\n",
        "#\n",
        "#        news = bs.find(\"div\", {'class':\"dynamic-infolist\"}).string\n",
        "#\n",
        "#        return news_date, news\n",
        "#    else:\n",
        "#        print('link expired:', url)\n",
        "#        return 404, 404, 404, 404, 404, 404, 404"
      ],
      "execution_count": null,
      "outputs": []
    },
    {
      "cell_type": "code",
      "source": [
        "request_url = \"https://newhouse.591.com.tw/home/housing/search?rid=1&sid=0&page=1\"\n",
        "headers={\n",
        "    'user-agent' : 'Mozilla/5.0 (Windows NT 10.0; Win64; x64) AppleWebKit/537.36 (KHTML, like Gecko) Chrome/84.0.4147.125 Safari/537.36'\n",
        "    }\n",
        "response = requests.get(request_url, headers = headers)\n",
        "response = response.json()\n",
        "items = response[\"data\"][\"items\"]\n",
        "house_url_list=[] #存放網址list\n",
        "for key in items:\n",
        "  id = key[\"hid\"] # 每個物件的 id\n",
        "  house_url_list.append(id)\n",
        "\n",
        "for url in house_url_list:\n",
        "  request_url='https://newhouse.591.com.tw/home/housing/info?hid='+str(url).strip()+\"/detail\"\n",
        "  headers={\n",
        "  'user-agent' : 'Mozilla/5.0 (Windows NT 10.0; Win64; x64) AppleWebKit/537.36 (KHTML, like Gecko) Chrome/84.0.4147.125 Safari/537.36'\n",
        "  }\n",
        "  time.sleep(random.randint(5,10))\n",
        "  res=requests.get(request_url, headers = headers)\n",
        "\n",
        "print (request_url)\n",
        "print (res)"
      ],
      "metadata": {
        "colab": {
          "base_uri": "https://localhost:8080/"
        },
        "id": "E_8uwIBsLQe6",
        "outputId": "c72d771c-6fd5-478c-ab5b-9aa978d41b8d"
      },
      "execution_count": 43,
      "outputs": [
        {
          "output_type": "stream",
          "name": "stdout",
          "text": [
            "https://newhouse.591.com.tw/home/housing/info?hid=130398/detail\n",
            "<Response [200]>\n"
          ]
        }
      ]
    },
    {
      "cell_type": "code",
      "source": [
        "request_url='https://newhouse.591.com.tw/home/housing/info?hid='+str(url).strip()\n",
        "headers={\n",
        "  'user-agent' : 'Mozilla/5.0 (Windows NT 10.0; Win64; x64) AppleWebKit/537.36 (KHTML, like Gecko) Chrome/84.0.4147.125 Safari/537.36'\n",
        "  }\n",
        "res=requests.get(request_url, headers = headers)\n",
        "bs=BeautifulSoup(res.text,'html.parser')\n",
        "# 利用 beautfiulsoup 的 find function 利用 css selector 定位 並撈出指定資料\n",
        "title=bs.find('h1').text\n",
        "tag = ', '.join([span.text.strip() for span in bs.find(\"p\", {'class':\"build-tag\"}).find_all(\"span\")]) if bs.find(\"p\", {'class':\"build-tag\"}) else \"未找到相應標籤\" #建案標籤\n",
        "unit_price=bs.find(\"span\", {'class':\"price\"}).text #單價\n",
        "unit = bs.find(\"span\", {'class':\"unit\"}).text #單位\n",
        "room = bs.find(\"span\",text=\"格局\").findNext(\"span\",{\"class\":\"value\"}).text #格局\n",
        "material = bs.find(\"h4\",text=\"建材說明\").findNext(\"p\").text #建材說明\n",
        "print (res)\n",
        "print (material)"
      ],
      "metadata": {
        "colab": {
          "base_uri": "https://localhost:8080/"
        },
        "id": "3Pkcn8zWPkdM",
        "outputId": "7d8155f7-030f-426c-8ad3-9557c328cf3d"
      },
      "execution_count": 98,
      "outputs": [
        {
          "output_type": "stream",
          "name": "stdout",
          "text": [
            "<Response [200]>\n",
            "Doris廚具、innoci衛浴、住友制震壁\n"
          ]
        }
      ]
    },
    {
      "cell_type": "code",
      "source": [
        "request_url_detail='https://newhouse.591.com.tw/home/housing/info?hid='+str(url).strip()+\"/detail\"\n",
        "headers={\n",
        "  'user-agent' : 'Mozilla/5.0 (Windows NT 10.0; Win64; x64) AppleWebKit/537.36 (KHTML, like Gecko) Chrome/84.0.4147.125 Safari/537.36'\n",
        "  }\n",
        "res_detail=requests.get(request_url_detail, headers = headers)\n",
        "bs_detail=BeautifulSoup(res_detail.text,'html.parser')\n",
        "\n",
        "htype=bs_detail.find(\"span\", text=\"建案類別\").findNext(\"p\").string.strip()\n",
        "htype2=bs_detail.find(\"span\", text=\"建案型態\").findNext(\"p\").string.strip().replace(' ', '').replace('\\n', '、')\n",
        "htype3=bs_detail.find(\"span\", text=\"公開銷售\").findNext(\"p\").string.strip()\n",
        "htype4=bs_detail.find(\"p\", {'class':\"address\"}).findNext(\"span\").text\n",
        "htype5=bs_detail.find(\"span\", text=\"交屋屋況\").findNext(\"p\").string.strip()\n",
        "htype6=bs_detail.find(\"span\",text=\"格局規劃\").findNext(\"p\").text.strip().replace(' ', '')\n",
        "htype7=bs_detail.find(\"span\", text=\"投資建設\").findNext(\"p\").string.strip()\n",
        "htype8=bs_detail.find(\"span\", text=\"營造公司\").findNext(\"p\").string.strip()\n",
        "htype9=bs_detail.find(\"span\", text=\"棟戶規劃\").findNext(\"p\").string.strip()\n",
        "htype10=bs_detail.find(\"span\", text=\"樓層規劃\").findNext(\"p\").string.strip()\n",
        "htype11=bs_detail.find(\"span\", text=\"用途規劃\").findNext(\"p\").string.strip()\n",
        "print(htype11)"
      ],
      "metadata": {
        "colab": {
          "base_uri": "https://localhost:8080/"
        },
        "id": "Xbbh_QHpd5EJ",
        "outputId": "03463ae9-937e-416d-cfde-2f3b6c750fdc"
      },
      "execution_count": 97,
      "outputs": [
        {
          "output_type": "stream",
          "name": "stdout",
          "text": [
            "住商用\n"
          ]
        }
      ]
    },
    {
      "cell_type": "code",
      "metadata": {
        "id": "aiM1Bqd_qNTz",
        "colab": {
          "base_uri": "https://localhost:8080/",
          "height": 143
        },
        "outputId": "d6b27cd4-ca8c-4818-fe27-0e3122e7570f"
      },
      "source": [
        "def main(outputfile, rid, sid, totalpages):\n",
        "\n",
        "   with io.open(outputfile, \"w\", encoding=\"utf-8\") as csvfile:\n",
        "        writer = csv.writer(csvfile)\n",
        "        writer.writerow([ \"建案名稱\", \"建案標籤\",\"單價\",\"單位\",\"建材說明\" ,\"建案類別\", \"建物形態\", \"公開銷售\", \"基地地址\", \"交屋屋況\"\\\n",
        "                        ,\"格局規劃\", \"投資建設\", \"營造公司\", \"棟戶規劃\", \"樓層規劃\", \"用途規劃\", \"網址\"]) \\\n",
        "                        #,\"動態資訊日期日期\", \"動態資訊\"])\n",
        "        totalpages = totalpages\n",
        "        print('Total pages: ', totalpages)\n",
        "\n",
        "        for i in range(1, totalpages+1):\n",
        "            request_url = \"https://newhouse.591.com.tw/home/housing/search?rid=\"+str(rid)+\"&sid=\"+str(sid)+\"&page=\"+str(i)\n",
        "            response = requests.get(request_url, headers = headers)\n",
        "            response = response.json()\n",
        "            items = response[\"data\"][\"items\"]\n",
        "\n",
        "            house_url_list=[] #存放網址list\n",
        "            for key in items:\n",
        "                id = key[\"hid\"] # 每個物件的 id\n",
        "                house_url_list.append(id)\n",
        "            #if totalpages%14 == 0:\n",
        "            #  time.sleep(180)\n",
        "            #else:\n",
        "            time.sleep(random.randint(5,10))\n",
        "\n",
        "            # ------------- write into csv ------------- #\n",
        "            for url in house_url_list:\n",
        "                title,cost,htype, htype2, htype3, htype4, htype5, htype6, htype7, htype8, htype9, htype10, htype11 = getData(url)\n",
        "                #news_date, news = get_dynamic_data(url)\n",
        "                writer.writerow([title,cost,htype, htype2, htype3, htype4, htype5, htype6, htype7, htype8, htype9, htype10, htype11,\\\n",
        "                                 str('https://newhouse.591.com.tw/home/housing/info?hid='+str(url))])\n",
        "                                 #, news_date, news])\n",
        "            # ------------------------------------------ #\n",
        "            print(i/totalpages*100, '%') # print out 完成 %數"
      ],
      "execution_count": 99,
      "outputs": [
        {
          "output_type": "error",
          "ename": "SyntaxError",
          "evalue": "ignored",
          "traceback": [
            "\u001b[0;36m  File \u001b[0;32m\"<ipython-input-99-2c0049ebf078>\"\u001b[0;36m, line \u001b[0;32m5\u001b[0m\n\u001b[0;31m    writer.writerow([ \"建案名稱\", \"建案標籤\",,\"單價\",\"單位\",\"建材說明\" ,\"建案類別\", \"建物形態\", \"公開銷售\", \"基地地址\", \"交屋屋況\"\\\u001b[0m\n\u001b[0m                                     ^\u001b[0m\n\u001b[0;31mSyntaxError\u001b[0m\u001b[0;31m:\u001b[0m invalid syntax\n"
          ]
        }
      ]
    },
    {
      "cell_type": "code",
      "metadata": {
        "colab": {
          "base_uri": "https://localhost:8080/"
        },
        "id": "XXxgt867oeIp",
        "outputId": "2849a8a4-d9bf-4701-a1c7-3521cee7b164"
      },
      "source": [
        "if __name__ == '__main__':\n",
        "    # -------- configurable parameter -------- #\n",
        "    # 以台北市不限區舉例(預設網址可能沒寫rid&sid, 點選縣市或區往只會顯示如下)\n",
        "    # link:https://newhouse.591.com.tw/housing-list.html?rid=1&sid=0\n",
        "\n",
        "    output_file_name = '/content/drive/MyDrive/output.csv' #設定存放位置與檔名\n",
        "    rid = 1           # 設定縣市 (台北市 rid = 1)\n",
        "    sid = 0           # 設定地區 (不限區 sid = 0)\n",
        "    totalpages = 35    # 設定抓取頁數 # 14頁大概\n",
        "    # ---------------------------------------- #\n",
        "\n",
        "    main(output_file_name, rid, sid, totalpages)                                          #匯出csv檔\n",
        "    read_file = pd.read_csv (output_file_name)\n",
        "    read_file.to_excel ('/content/drive/MyDrive/output.xlsx', index = None, header=True) #匯出excel檔\n",
        "    print('\\nfinish!')"
      ],
      "execution_count": null,
      "outputs": [
        {
          "output_type": "stream",
          "text": [
            "Total pages:  35\n",
            "42.857142857142854 %\n",
            "45.714285714285715 %\n",
            "48.57142857142857 %\n",
            "51.42857142857142 %\n",
            "54.285714285714285 %\n",
            "57.14285714285714 %\n",
            "60.0 %\n",
            "62.857142857142854 %\n",
            "65.71428571428571 %\n",
            "68.57142857142857 %\n",
            "71.42857142857143 %\n",
            "74.28571428571429 %\n",
            "77.14285714285715 %\n",
            "80.0 %\n",
            "82.85714285714286 %\n",
            "85.71428571428571 %\n",
            "88.57142857142857 %\n",
            "91.42857142857143 %\n",
            "94.28571428571428 %\n",
            "97.14285714285714 %\n",
            "100.0 %\n",
            "\n",
            "finish!\n"
          ],
          "name": "stdout"
        }
      ]
    }
  ]
}
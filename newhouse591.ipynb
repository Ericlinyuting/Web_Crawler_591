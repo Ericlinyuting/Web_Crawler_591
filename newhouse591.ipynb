{
  "nbformat": 4,
  "nbformat_minor": 0,
  "metadata": {
    "colab": {
      "name": "newhouse591.ipynb",
      "provenance": [],
      "collapsed_sections": [],
      "include_colab_link": true
    },
    "kernelspec": {
      "name": "python3",
      "display_name": "Python 3",
      "language": "python"
    }
  },
  "cells": [
    {
      "cell_type": "markdown",
      "metadata": {
        "id": "view-in-github",
        "colab_type": "text"
      },
      "source": [
        "<a href=\"https://colab.research.google.com/github/LucaChuang/Newhouse-591-Web-Scraping/blob/main/newhouse591.ipynb\" target=\"_parent\"><img src=\"https://colab.research.google.com/assets/colab-badge.svg\" alt=\"Open In Colab\"/></a>"
      ]
    },
    {
      "cell_type": "code",
      "metadata": {
        "colab": {
          "base_uri": "https://localhost:8080/"
        },
        "id": "iQNEwUtkphBS",
        "outputId": "deeffe3e-7188-47ba-e139-f75617dd83c5"
      },
      "source": [
        "from google.colab import drive\n",
        "drive.mount('/content/drive')"
      ],
      "execution_count": 2,
      "outputs": [
        {
          "output_type": "stream",
          "text": [
            "Mounted at /content/drive\n"
          ],
          "name": "stdout"
        }
      ]
    },
    {
      "cell_type": "code",
      "metadata": {
        "colab": {
          "base_uri": "https://localhost:8080/"
        },
        "id": "RQJAPHxbomd8",
        "outputId": "69675978-2023-46f8-d4d2-443088de2d5d"
      },
      "source": [
        "!pip install selenium\r\n",
        "!apt-get update # to update ubuntu to correctly run apt install\r\n",
        "!apt install chromium-chromedriver\r\n",
        "!cp /usr/lib/chromium-browser/chromedriver /usr/bin\r\n",
        "import sys\r\n",
        "sys.path.insert(0,'/usr/lib/chromium-browser/chromedriver')\r\n",
        "from selenium import webdriver"
      ],
      "execution_count": 3,
      "outputs": [
        {
          "output_type": "stream",
          "text": [
            "Collecting selenium\n",
            "\u001b[?25l  Downloading https://files.pythonhosted.org/packages/80/d6/4294f0b4bce4de0abf13e17190289f9d0613b0a44e5dd6a7f5ca98459853/selenium-3.141.0-py2.py3-none-any.whl (904kB)\n",
            "\r\u001b[K     |▍                               | 10kB 15.4MB/s eta 0:00:01\r\u001b[K     |▊                               | 20kB 11.5MB/s eta 0:00:01\r\u001b[K     |█                               | 30kB 8.6MB/s eta 0:00:01\r\u001b[K     |█▌                              | 40kB 7.7MB/s eta 0:00:01\r\u001b[K     |█▉                              | 51kB 4.3MB/s eta 0:00:01\r\u001b[K     |██▏                             | 61kB 5.0MB/s eta 0:00:01\r\u001b[K     |██▌                             | 71kB 5.2MB/s eta 0:00:01\r\u001b[K     |███                             | 81kB 5.3MB/s eta 0:00:01\r\u001b[K     |███▎                            | 92kB 5.3MB/s eta 0:00:01\r\u001b[K     |███▋                            | 102kB 5.6MB/s eta 0:00:01\r\u001b[K     |████                            | 112kB 5.6MB/s eta 0:00:01\r\u001b[K     |████▍                           | 122kB 5.6MB/s eta 0:00:01\r\u001b[K     |████▊                           | 133kB 5.6MB/s eta 0:00:01\r\u001b[K     |█████                           | 143kB 5.6MB/s eta 0:00:01\r\u001b[K     |█████▍                          | 153kB 5.6MB/s eta 0:00:01\r\u001b[K     |█████▉                          | 163kB 5.6MB/s eta 0:00:01\r\u001b[K     |██████▏                         | 174kB 5.6MB/s eta 0:00:01\r\u001b[K     |██████▌                         | 184kB 5.6MB/s eta 0:00:01\r\u001b[K     |██████▉                         | 194kB 5.6MB/s eta 0:00:01\r\u001b[K     |███████▎                        | 204kB 5.6MB/s eta 0:00:01\r\u001b[K     |███████▋                        | 215kB 5.6MB/s eta 0:00:01\r\u001b[K     |████████                        | 225kB 5.6MB/s eta 0:00:01\r\u001b[K     |████████▎                       | 235kB 5.6MB/s eta 0:00:01\r\u001b[K     |████████▊                       | 245kB 5.6MB/s eta 0:00:01\r\u001b[K     |█████████                       | 256kB 5.6MB/s eta 0:00:01\r\u001b[K     |█████████▍                      | 266kB 5.6MB/s eta 0:00:01\r\u001b[K     |█████████▉                      | 276kB 5.6MB/s eta 0:00:01\r\u001b[K     |██████████▏                     | 286kB 5.6MB/s eta 0:00:01\r\u001b[K     |██████████▌                     | 296kB 5.6MB/s eta 0:00:01\r\u001b[K     |██████████▉                     | 307kB 5.6MB/s eta 0:00:01\r\u001b[K     |███████████▎                    | 317kB 5.6MB/s eta 0:00:01\r\u001b[K     |███████████▋                    | 327kB 5.6MB/s eta 0:00:01\r\u001b[K     |████████████                    | 337kB 5.6MB/s eta 0:00:01\r\u001b[K     |████████████▎                   | 348kB 5.6MB/s eta 0:00:01\r\u001b[K     |████████████▊                   | 358kB 5.6MB/s eta 0:00:01\r\u001b[K     |█████████████                   | 368kB 5.6MB/s eta 0:00:01\r\u001b[K     |█████████████▍                  | 378kB 5.6MB/s eta 0:00:01\r\u001b[K     |█████████████▊                  | 389kB 5.6MB/s eta 0:00:01\r\u001b[K     |██████████████▏                 | 399kB 5.6MB/s eta 0:00:01\r\u001b[K     |██████████████▌                 | 409kB 5.6MB/s eta 0:00:01\r\u001b[K     |██████████████▉                 | 419kB 5.6MB/s eta 0:00:01\r\u001b[K     |███████████████▏                | 430kB 5.6MB/s eta 0:00:01\r\u001b[K     |███████████████▋                | 440kB 5.6MB/s eta 0:00:01\r\u001b[K     |████████████████                | 450kB 5.6MB/s eta 0:00:01\r\u001b[K     |████████████████▎               | 460kB 5.6MB/s eta 0:00:01\r\u001b[K     |████████████████▋               | 471kB 5.6MB/s eta 0:00:01\r\u001b[K     |█████████████████               | 481kB 5.6MB/s eta 0:00:01\r\u001b[K     |█████████████████▍              | 491kB 5.6MB/s eta 0:00:01\r\u001b[K     |█████████████████▊              | 501kB 5.6MB/s eta 0:00:01\r\u001b[K     |██████████████████▏             | 512kB 5.6MB/s eta 0:00:01\r\u001b[K     |██████████████████▌             | 522kB 5.6MB/s eta 0:00:01\r\u001b[K     |██████████████████▉             | 532kB 5.6MB/s eta 0:00:01\r\u001b[K     |███████████████████▏            | 542kB 5.6MB/s eta 0:00:01\r\u001b[K     |███████████████████▋            | 552kB 5.6MB/s eta 0:00:01\r\u001b[K     |████████████████████            | 563kB 5.6MB/s eta 0:00:01\r\u001b[K     |████████████████████▎           | 573kB 5.6MB/s eta 0:00:01\r\u001b[K     |████████████████████▋           | 583kB 5.6MB/s eta 0:00:01\r\u001b[K     |█████████████████████           | 593kB 5.6MB/s eta 0:00:01\r\u001b[K     |█████████████████████▍          | 604kB 5.6MB/s eta 0:00:01\r\u001b[K     |█████████████████████▊          | 614kB 5.6MB/s eta 0:00:01\r\u001b[K     |██████████████████████          | 624kB 5.6MB/s eta 0:00:01\r\u001b[K     |██████████████████████▌         | 634kB 5.6MB/s eta 0:00:01\r\u001b[K     |██████████████████████▉         | 645kB 5.6MB/s eta 0:00:01\r\u001b[K     |███████████████████████▏        | 655kB 5.6MB/s eta 0:00:01\r\u001b[K     |███████████████████████▌        | 665kB 5.6MB/s eta 0:00:01\r\u001b[K     |████████████████████████        | 675kB 5.6MB/s eta 0:00:01\r\u001b[K     |████████████████████████▎       | 686kB 5.6MB/s eta 0:00:01\r\u001b[K     |████████████████████████▋       | 696kB 5.6MB/s eta 0:00:01\r\u001b[K     |█████████████████████████       | 706kB 5.6MB/s eta 0:00:01\r\u001b[K     |█████████████████████████▍      | 716kB 5.6MB/s eta 0:00:01\r\u001b[K     |█████████████████████████▊      | 727kB 5.6MB/s eta 0:00:01\r\u001b[K     |██████████████████████████      | 737kB 5.6MB/s eta 0:00:01\r\u001b[K     |██████████████████████████▍     | 747kB 5.6MB/s eta 0:00:01\r\u001b[K     |██████████████████████████▉     | 757kB 5.6MB/s eta 0:00:01\r\u001b[K     |███████████████████████████▏    | 768kB 5.6MB/s eta 0:00:01\r\u001b[K     |███████████████████████████▌    | 778kB 5.6MB/s eta 0:00:01\r\u001b[K     |████████████████████████████    | 788kB 5.6MB/s eta 0:00:01\r\u001b[K     |████████████████████████████▎   | 798kB 5.6MB/s eta 0:00:01\r\u001b[K     |████████████████████████████▋   | 808kB 5.6MB/s eta 0:00:01\r\u001b[K     |█████████████████████████████   | 819kB 5.6MB/s eta 0:00:01\r\u001b[K     |█████████████████████████████▍  | 829kB 5.6MB/s eta 0:00:01\r\u001b[K     |█████████████████████████████▊  | 839kB 5.6MB/s eta 0:00:01\r\u001b[K     |██████████████████████████████  | 849kB 5.6MB/s eta 0:00:01\r\u001b[K     |██████████████████████████████▍ | 860kB 5.6MB/s eta 0:00:01\r\u001b[K     |██████████████████████████████▉ | 870kB 5.6MB/s eta 0:00:01\r\u001b[K     |███████████████████████████████▏| 880kB 5.6MB/s eta 0:00:01\r\u001b[K     |███████████████████████████████▌| 890kB 5.6MB/s eta 0:00:01\r\u001b[K     |███████████████████████████████▉| 901kB 5.6MB/s eta 0:00:01\r\u001b[K     |████████████████████████████████| 911kB 5.6MB/s \n",
            "\u001b[?25hRequirement already satisfied: urllib3 in /usr/local/lib/python3.7/dist-packages (from selenium) (1.24.3)\n",
            "Installing collected packages: selenium\n",
            "Successfully installed selenium-3.141.0\n",
            "Ign:1 https://developer.download.nvidia.com/compute/cuda/repos/ubuntu1804/x86_64  InRelease\n",
            "Get:2 https://cloud.r-project.org/bin/linux/ubuntu bionic-cran40/ InRelease [3,626 B]\n",
            "Ign:3 https://developer.download.nvidia.com/compute/machine-learning/repos/ubuntu1804/x86_64  InRelease\n",
            "Hit:4 http://archive.ubuntu.com/ubuntu bionic InRelease\n",
            "Get:5 http://security.ubuntu.com/ubuntu bionic-security InRelease [88.7 kB]\n",
            "Get:6 http://ppa.launchpad.net/c2d4u.team/c2d4u4.0+/ubuntu bionic InRelease [15.9 kB]\n",
            "Get:7 https://developer.download.nvidia.com/compute/cuda/repos/ubuntu1804/x86_64  Release [697 B]\n",
            "Get:8 https://developer.download.nvidia.com/compute/machine-learning/repos/ubuntu1804/x86_64  Release [564 B]\n",
            "Get:9 https://developer.download.nvidia.com/compute/cuda/repos/ubuntu1804/x86_64  Release.gpg [836 B]\n",
            "Get:10 https://developer.download.nvidia.com/compute/machine-learning/repos/ubuntu1804/x86_64  Release.gpg [833 B]\n",
            "Get:11 http://archive.ubuntu.com/ubuntu bionic-updates InRelease [88.7 kB]\n",
            "Hit:12 http://ppa.launchpad.net/cran/libgit2/ubuntu bionic InRelease\n",
            "Get:13 http://archive.ubuntu.com/ubuntu bionic-backports InRelease [74.6 kB]\n",
            "Get:14 http://ppa.launchpad.net/deadsnakes/ppa/ubuntu bionic InRelease [15.9 kB]\n",
            "Get:15 http://ppa.launchpad.net/graphics-drivers/ppa/ubuntu bionic InRelease [21.3 kB]\n",
            "Ign:16 https://developer.download.nvidia.com/compute/cuda/repos/ubuntu1804/x86_64  Packages\n",
            "Get:16 https://developer.download.nvidia.com/compute/cuda/repos/ubuntu1804/x86_64  Packages [577 kB]\n",
            "Get:17 https://developer.download.nvidia.com/compute/machine-learning/repos/ubuntu1804/x86_64  Packages [73.8 kB]\n",
            "Get:18 http://ppa.launchpad.net/c2d4u.team/c2d4u4.0+/ubuntu bionic/main Sources [1,740 kB]\n",
            "Get:19 http://security.ubuntu.com/ubuntu bionic-security/multiverse amd64 Packages [24.5 kB]\n",
            "Get:20 http://security.ubuntu.com/ubuntu bionic-security/universe amd64 Packages [1,396 kB]\n",
            "Get:21 http://archive.ubuntu.com/ubuntu bionic-updates/multiverse amd64 Packages [31.4 kB]\n",
            "Get:22 http://security.ubuntu.com/ubuntu bionic-security/restricted amd64 Packages [324 kB]\n",
            "Get:23 http://security.ubuntu.com/ubuntu bionic-security/main amd64 Packages [1,963 kB]\n",
            "Get:24 http://archive.ubuntu.com/ubuntu bionic-updates/universe amd64 Packages [2,163 kB]\n",
            "Get:25 http://ppa.launchpad.net/c2d4u.team/c2d4u4.0+/ubuntu bionic/main amd64 Packages [890 kB]\n",
            "Get:26 http://archive.ubuntu.com/ubuntu bionic-updates/main amd64 Packages [2,394 kB]\n",
            "Get:27 http://archive.ubuntu.com/ubuntu bionic-updates/restricted amd64 Packages [353 kB]\n",
            "Get:28 http://ppa.launchpad.net/deadsnakes/ppa/ubuntu bionic/main amd64 Packages [39.5 kB]\n",
            "Get:29 http://ppa.launchpad.net/graphics-drivers/ppa/ubuntu bionic/main amd64 Packages [49.4 kB]\n",
            "Fetched 12.3 MB in 3s (3,580 kB/s)\n",
            "Reading package lists... Done\n",
            "Reading package lists... Done\n",
            "Building dependency tree       \n",
            "Reading state information... Done\n",
            "The following additional packages will be installed:\n",
            "  chromium-browser chromium-browser-l10n chromium-codecs-ffmpeg-extra\n",
            "Suggested packages:\n",
            "  webaccounts-chromium-extension unity-chromium-extension adobe-flashplugin\n",
            "The following NEW packages will be installed:\n",
            "  chromium-browser chromium-browser-l10n chromium-chromedriver\n",
            "  chromium-codecs-ffmpeg-extra\n",
            "0 upgraded, 4 newly installed, 0 to remove and 57 not upgraded.\n",
            "Need to get 81.0 MB of archives.\n",
            "After this operation, 273 MB of additional disk space will be used.\n",
            "Get:1 http://archive.ubuntu.com/ubuntu bionic-updates/universe amd64 chromium-codecs-ffmpeg-extra amd64 87.0.4280.66-0ubuntu0.18.04.1 [1,122 kB]\n",
            "Get:2 http://archive.ubuntu.com/ubuntu bionic-updates/universe amd64 chromium-browser amd64 87.0.4280.66-0ubuntu0.18.04.1 [71.7 MB]\n",
            "Get:3 http://archive.ubuntu.com/ubuntu bionic-updates/universe amd64 chromium-browser-l10n all 87.0.4280.66-0ubuntu0.18.04.1 [3,716 kB]\n",
            "Get:4 http://archive.ubuntu.com/ubuntu bionic-updates/universe amd64 chromium-chromedriver amd64 87.0.4280.66-0ubuntu0.18.04.1 [4,488 kB]\n",
            "Fetched 81.0 MB in 3s (24.3 MB/s)\n",
            "Selecting previously unselected package chromium-codecs-ffmpeg-extra.\n",
            "(Reading database ... 160975 files and directories currently installed.)\n",
            "Preparing to unpack .../chromium-codecs-ffmpeg-extra_87.0.4280.66-0ubuntu0.18.04.1_amd64.deb ...\n",
            "Unpacking chromium-codecs-ffmpeg-extra (87.0.4280.66-0ubuntu0.18.04.1) ...\n",
            "Selecting previously unselected package chromium-browser.\n",
            "Preparing to unpack .../chromium-browser_87.0.4280.66-0ubuntu0.18.04.1_amd64.deb ...\n",
            "Unpacking chromium-browser (87.0.4280.66-0ubuntu0.18.04.1) ...\n",
            "Selecting previously unselected package chromium-browser-l10n.\n",
            "Preparing to unpack .../chromium-browser-l10n_87.0.4280.66-0ubuntu0.18.04.1_all.deb ...\n",
            "Unpacking chromium-browser-l10n (87.0.4280.66-0ubuntu0.18.04.1) ...\n",
            "Selecting previously unselected package chromium-chromedriver.\n",
            "Preparing to unpack .../chromium-chromedriver_87.0.4280.66-0ubuntu0.18.04.1_amd64.deb ...\n",
            "Unpacking chromium-chromedriver (87.0.4280.66-0ubuntu0.18.04.1) ...\n",
            "Setting up chromium-codecs-ffmpeg-extra (87.0.4280.66-0ubuntu0.18.04.1) ...\n",
            "Setting up chromium-browser (87.0.4280.66-0ubuntu0.18.04.1) ...\n",
            "update-alternatives: using /usr/bin/chromium-browser to provide /usr/bin/x-www-browser (x-www-browser) in auto mode\n",
            "update-alternatives: using /usr/bin/chromium-browser to provide /usr/bin/gnome-www-browser (gnome-www-browser) in auto mode\n",
            "Setting up chromium-chromedriver (87.0.4280.66-0ubuntu0.18.04.1) ...\n",
            "Setting up chromium-browser-l10n (87.0.4280.66-0ubuntu0.18.04.1) ...\n",
            "Processing triggers for hicolor-icon-theme (0.17-2) ...\n",
            "Processing triggers for mime-support (3.60ubuntu1) ...\n",
            "Processing triggers for man-db (2.8.3-2ubuntu0.1) ...\n",
            "cp: '/usr/lib/chromium-browser/chromedriver' and '/usr/bin/chromedriver' are the same file\n"
          ],
          "name": "stdout"
        }
      ]
    },
    {
      "cell_type": "code",
      "metadata": {
        "id": "4dh0bQF-HEgw"
      },
      "source": [
        "import requests\n",
        "import time\n",
        "from bs4 import BeautifulSoup\n",
        "import pandas as pd\n",
        "import warnings\n",
        "import datetime\n",
        "import requests\n",
        "import pandas as pd\n",
        "import time\n",
        "from selenium import webdriver\n",
        "from selenium.webdriver.common.keys import Keys\n",
        "import csv\n",
        "import io\n",
        "import json\n",
        "warnings.filterwarnings(\"ignore\")"
      ],
      "execution_count": 4,
      "outputs": []
    },
    {
      "cell_type": "code",
      "metadata": {
        "id": "ERMnx-cnoeIn"
      },
      "source": [
        "headers={\n",
        "    'user-agent' : 'Mozilla/5.0 (Windows NT 10.0; Win64; x64) AppleWebKit/537.36 (KHTML, like Gecko) Chrome/84.0.4147.125 Safari/537.36'\n",
        "    }\n",
        "\n",
        "request_url='http://newhouse.591.com.tw/home/housing/info?hid=119282'\n",
        "res=requests.get(request_url, headers = headers)\n",
        "bs=BeautifulSoup(res.text,'html.parser')\n"
      ],
      "execution_count": 5,
      "outputs": []
    },
    {
      "cell_type": "code",
      "metadata": {
        "id": "hDXNjxovoeIo"
      },
      "source": [
        "# input 建案網址 return 建案建案詳情欄位\n",
        "# 產出為建案名與12個建案資訊\n",
        "def getData(url):\n",
        "    request_url='https://newhouse.591.com.tw/home/housing/info?hid='+str(url).strip()\n",
        "    headers={\n",
        "    'user-agent' : 'Mozilla/5.0 (Windows NT 10.0; Win64; x64) AppleWebKit/537.36 (KHTML, like Gecko) Chrome/84.0.4147.125 Safari/537.36'\n",
        "    }\n",
        "    res=requests.get(request_url, headers = headers)\n",
        "    #bs=BeautifulSoup(res.text,'html.parser')\n",
        "\n",
        "    if res.status_code == 200:\n",
        "        bs=BeautifulSoup(res.text,'html.parser')\n",
        "        #先宣告變數為NULL 若無撈到資料則寫入NULL\n",
        "        title='NULL'\n",
        "        size='NULL'\n",
        "        htype='NULL'\n",
        "        htype2='NULL'\n",
        "        htype3='NULL'\n",
        "        htype4='NULL'\n",
        "        htype5='NULL'\n",
        "        htype6='NULL'\n",
        "        htype7='NULL'\n",
        "        htype8='NULL'\n",
        "        htype9='NULL'\n",
        "        htype10='NULL'\n",
        "        htype11='NULL'\n",
        "\n",
        "        # 利用 beautfiulsoup 的 find function 利用 css selector 定位 並撈出指定資料\n",
        "        title=bs.find('h1').text\n",
        "        size=bs.find(\"dl\", {'class':\"clearfix\"}).findNext(\"dd\").text.strip()\n",
        "        htype=bs.find(\"dt\", text=\"建案類別：\").findNext(\"dd\").string.strip()\n",
        "        htype2=bs.find(\"dt\", text=\"建物形態：\").findNext(\"dd\").string.strip().replace(' ', '').replace('\\n', '、')\n",
        "        htype3=bs.find(\"dt\", text=\"公開銷售：\").findNext(\"dd\").string.strip()\n",
        "        htype4=bs.find(\"dt\", text=\"基地地址：\").findNext(\"dd\").contents[0].string.strip()\n",
        "        htype5=bs.find(\"dt\", text=\"交屋屋況：\").findNext(\"dd\").string.strip()\n",
        "        htype6=bs.find(\"div\",{'class':\"flex_5 stonefont\"}).findNext('span',{'class':''}).text.strip().replace(' ', '')\n",
        "        htype7=bs.find(\"dt\", text=\"投資建設：\").findNext(\"dd\").string.strip()\n",
        "        htype8=bs.find(\"dt\", text=\"營造公司：\").findNext(\"dd\").string.strip()\n",
        "        htype9=bs.find(\"dt\", text=\"棟戶規劃：\").findNext(\"dd\").string.strip()\n",
        "        htype10=bs.find(\"dt\", text=\"樓層規劃：\").findNext(\"dd\").string.strip()\n",
        "        htype11=bs.find(\"dt\", text=\"用途規劃：\").findNext(\"dd\").string.strip()\n",
        "                \n",
        "        return title,size,htype, htype2, htype3, htype4, htype5, htype6, htype7, htype8, htype9, htype10, htype11\n",
        "    else:\n",
        "        print('link expired:', url)\n",
        "        return 404, 404, 404, 404, 404, 404, 404"
      ],
      "execution_count": 6,
      "outputs": []
    },
    {
      "cell_type": "code",
      "metadata": {
        "id": "aiM1Bqd_qNTz"
      },
      "source": [
        "def main(outputfile, rid, sid, totalpages):\r\n",
        "   \r\n",
        "   with io.open(outputfile, \"w\", encoding=\"utf-8\") as csvfile:\r\n",
        "        writer = csv.writer(csvfile)\r\n",
        "        \r\n",
        "        totalpages = totalpages\r\n",
        "        print('Total pages: ', totalpages)\r\n",
        "\r\n",
        "        for i in range(1, totalpages+1):\r\n",
        "            request_url = \"https://newhouse.591.com.tw/home/housing/search?rid=\"+str(rid)+\"&sid=\"+str(sid)+\"&page=\"+str(i)\r\n",
        "            response = requests.get(request_url, headers = headers)\r\n",
        "            response = response.json()\r\n",
        "            items = response[\"data\"][\"items\"]\r\n",
        "\r\n",
        "            house_url_list=[] #存放網址list\r\n",
        "            for key in items:\r\n",
        "                id = key[\"hid\"] # 每個物件的 id\r\n",
        "                house_url_list.append(id)\r\n",
        "            time.sleep(3)\r\n",
        "\r\n",
        "            # ------------- write into csv ------------- #\r\n",
        "            for url in house_url_list:\r\n",
        "                title,size,htype, htype2, htype3, htype4, htype5, htype6, htype7, htype8, htype9, htype10, htype11 = getData(url)\r\n",
        "                writer.writerow([title,size,htype, htype2, htype3, htype4, htype5, htype6, htype7, htype8, htype9, htype10, htype11, str('https://newhouse.591.com.tw/home/housing/info?hid='+str(url))])\r\n",
        "            # ------------------------------------------ #\r\n",
        "            print(i/totalpages*100, '%') # print out 完成 %數"
      ],
      "execution_count": 9,
      "outputs": []
    },
    {
      "cell_type": "code",
      "metadata": {
        "colab": {
          "base_uri": "https://localhost:8080/"
        },
        "id": "XXxgt867oeIp",
        "outputId": "5def1e24-0976-4cd4-a9a9-08203cf15603"
      },
      "source": [
        "if __name__ == '__main__':\n",
        "    # -------- configurable parameter -------- #\n",
        "    # 以台北市不限區舉例(預設網址可能沒寫rid&sid, 點選縣市或區往只會顯示如下)\n",
        "    # link:https://newhouse.591.com.tw/housing-list.html?rid=1&sid=0\n",
        "\n",
        "    output_file_name = '/content/drive/MyDrive/output.csv' #設定存放位置與檔名\n",
        "    rid = 1           # 設定縣市 (台北市 rid = 1)\n",
        "    sid = 0           # 設定地區 (不限區 sid = 0)\n",
        "    totalpages = 3    # 設定抓取頁數\n",
        "    # ---------------------------------------- #\n",
        "\n",
        "    main(output_file_name, rid, sid, totalpages)                                          #匯出csv檔\n",
        "    read_file = pd.read_csv (output_file_name)\n",
        "    read_file.to_excel ('/content/drive/MyDrive/output.xlsx', index = None, header=False) #匯出excel檔\n",
        "    print('\\nfinish!')"
      ],
      "execution_count": 10,
      "outputs": [
        {
          "output_type": "stream",
          "text": [
            "Total pages:  3\n",
            "33.33333333333333 %\n",
            "66.66666666666666 %\n",
            "100.0 %\n",
            "\n",
            "finish!\n"
          ],
          "name": "stdout"
        }
      ]
    },
    {
      "cell_type": "code",
      "metadata": {
        "id": "cRjq8JZPoeIq"
      },
      "source": [
        ""
      ],
      "execution_count": 15,
      "outputs": []
    }
  ]
}